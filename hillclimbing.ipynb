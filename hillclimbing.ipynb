{
  "nbformat": 4,
  "nbformat_minor": 0,
  "metadata": {
    "colab": {
      "provenance": []
    },
    "kernelspec": {
      "name": "python3",
      "display_name": "Python 3"
    },
    "language_info": {
      "name": "python"
    }
  },
  "cells": [
    {
      "cell_type": "markdown",
      "source": [
        "# **Hill Climbing**"
      ],
      "metadata": {
        "id": "59dqGoIrStG4"
      }
    },
    {
      "cell_type": "code",
      "execution_count": 9,
      "metadata": {
        "colab": {
          "base_uri": "https://localhost:8080/"
        },
        "id": "U0Ql2I3gSoaz",
        "outputId": "91d57f69-0624-4aac-8313-2905407ac144"
      },
      "outputs": [
        {
          "output_type": "stream",
          "name": "stdout",
          "text": [
            "Best solution: 1.9874057688723243\n",
            "Best value: 3.9998413853423025\n"
          ]
        }
      ],
      "source": [
        "import random\n",
        "def objective_function(x):\n",
        "  # Example objective function: f(x) = -x^ + 4x\n",
        "  return -x**2 + 4*x\n",
        "\n",
        "def hill_climbing():\n",
        "  #Initialize a random solution\n",
        "  current_solution = random.uniform(-10, 10)\n",
        "  current_value = objective_function(current_solution)\n",
        "\n",
        "  step_size = 0.1\n",
        "  max_iterations = 1000\n",
        "\n",
        "  for _ in range(max_iterations):\n",
        "    # Generate neighbors\n",
        "    neighbors = [current_solution + step_size, current_solution - step_size]\n",
        "\n",
        "    # Evaluate neightbors\n",
        "    next_solution = max(neighbors, key=objective_function)\n",
        "    next_value = objective_function(next_solution)\n",
        "\n",
        "    # Check if the neighbor is better\n",
        "    if next_value > current_value:\n",
        "      current_solution = next_solution\n",
        "      current_value = next_value\n",
        "    else:\n",
        "      # If no better neighbors, return current solution\n",
        "      break\n",
        "  return current_solution, current_value\n",
        "\n",
        "# Example usage\n",
        "best_solution, best_value = hill_climbing()\n",
        "print(f\"Best solution: {best_solution}\")\n",
        "print(f\"Best value: {best_value}\")"
      ]
    },
    {
      "cell_type": "markdown",
      "source": [
        "**TUGAS B**\n",
        "\n",
        "---\n",
        "\n",
        "Kode ini mengimplementasikan algoritma **Hill Climbing** untuk mencari nilai maksimum dari fungsi objektif f(x) = -x**2 + 4*x. Algoritma dimulai dengan nilai acak dalam rentang [−10,10], lalu mengevaluasi 2 tetangga terdekat dengan langkah 0.1. Jika salah satu tetangga memiliki nilai fungsi yang lebih tinggi, solusi diperbarui. Proses ini berulang hingga tidak ada peningkatan atau batas 1000 iterasi tercapai. Hasil akhirnya adalah nilai X terbaik dan nilai fungsi maksimum yang ditemukan."
      ],
      "metadata": {
        "id": "V8in_RqFXEMv"
      }
    },
    {
      "cell_type": "markdown",
      "source": [
        "# **Studi Kasus: Optimasi Produksi dengan Hill Climbing**"
      ],
      "metadata": {
        "id": "pSDIugD5Ynk7"
      }
    },
    {
      "cell_type": "markdown",
      "source": [
        "Sebuah pabrik ingin memaksimalkan produksi barang dengan mempertimbangkan keterbatasan bahan baku dan kapasitas mesin. Fungsi objektif yang digunakan adalah:\n",
        "\n",
        "**f(x) = -(x-5)**2 + 25**\n",
        "\n",
        "\n",
        "Fungsi ini mencapai maksimum saat x=5, yang mewakili jumlah produksi optimal. Algoritma Hill Climbing akan mencari nilai x terbaik untuk memaksimalkan produksi."
      ],
      "metadata": {
        "id": "REe6cQ_5Ytpm"
      }
    },
    {
      "cell_type": "code",
      "source": [
        "import random\n",
        "\n",
        "def objective_function(x):\n",
        "    return - (x - 5)**2 + 25  # Maksimum saat x = 5\n",
        "\n",
        "def hill_climbing():\n",
        "    current_solution = random.uniform(0, 10)  # Inisialisasi solusi acak antara 0 dan 10\n",
        "    current_value = objective_function(current_solution)\n",
        "\n",
        "    step_size = 0.1\n",
        "    max_iterations = 1000\n",
        "\n",
        "    for _ in range(max_iterations):\n",
        "        neighbors = [current_solution + step_size, current_solution - step_size]\n",
        "        next_solution = max(neighbors, key=objective_function)\n",
        "        next_value = objective_function(next_solution)\n",
        "\n",
        "        if next_value > current_value:\n",
        "            current_solution, current_value = next_solution, next_value\n",
        "        else:\n",
        "            break  # Berhenti jika tidak ada perbaikan\n",
        "\n",
        "    return current_solution, current_value\n",
        "\n",
        "# Menjalankan algoritma\n",
        "best_solution, best_value = hill_climbing()\n",
        "print(f\"Produksi optimal: {best_solution:.2f} unit dengan hasil maksimum: {best_value:.2f}\")\n"
      ],
      "metadata": {
        "colab": {
          "base_uri": "https://localhost:8080/"
        },
        "id": "nr26oZ5xYZZj",
        "outputId": "d9747f72-83ab-42d8-fa87-3f9282def127"
      },
      "execution_count": 10,
      "outputs": [
        {
          "output_type": "stream",
          "name": "stdout",
          "text": [
            "Produksi optimal: 5.01 unit dengan hasil maksimum: 25.00\n"
          ]
        }
      ]
    }
  ]
}