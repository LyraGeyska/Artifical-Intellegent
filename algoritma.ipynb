{
  "nbformat": 4,
  "nbformat_minor": 0,
  "metadata": {
    "colab": {
      "provenance": []
    },
    "kernelspec": {
      "name": "python3",
      "display_name": "Python 3"
    },
    "language_info": {
      "name": "python"
    }
  },
  "cells": [
    {
      "cell_type": "markdown",
      "source": [
        "# **Pencarian Jalur dengan Fungsi Heuristic Menggunakan A***"
      ],
      "metadata": {
        "id": "wzOtNGhJZjV_"
      }
    },
    {
      "cell_type": "markdown",
      "source": [
        "**Langkah 1 : Menentukan Algoritma A* dulu**"
      ],
      "metadata": {
        "id": "mdNy-Mp-BuKS"
      }
    },
    {
      "cell_type": "code",
      "execution_count": null,
      "metadata": {
        "id": "OwWI2oNgxuhz"
      },
      "outputs": [],
      "source": [
        "import heapq\n",
        "import matplotlib.pyplot as plt\n",
        "import numpy as np\n",
        "\n",
        "def a_star(grid, start, goal):\n",
        "    def heuristic(a, b):\n",
        "        return abs(a[0] - b[0]) + abs(a[1] - b[1])\n",
        "\n",
        "    directions = [(0, 1), (1, 0), (0, -1), (-1, 0)]\n",
        "    open_list = []\n",
        "    heapq.heappush(open_list, (0, start))\n",
        "\n",
        "    g_score = {start: 0}\n",
        "    f_score = {start: heuristic(start, goal)}\n",
        "    came_from = {}\n",
        "\n",
        "    while open_list:\n",
        "        _, current = heapq.heappop(open_list)\n",
        "\n",
        "        if current == goal:\n",
        "            path = []\n",
        "            while current in came_from:\n",
        "                path.append(current)\n",
        "                current = came_from[current]\n",
        "            path.append(start)\n",
        "            path.reverse()\n",
        "            return path\n",
        "\n",
        "        for direction in directions:\n",
        "            neighbor = (current[0] + direction[0], current[1] + direction[1])\n",
        "\n",
        "            if 0 <= neighbor[0] < len(grid) and 0 <= neighbor[1] < len(grid[0]) and grid[neighbor[0]][neighbor[1]] == 0:\n",
        "                tentative_g_score = g_score[current] + 1\n",
        "\n",
        "                if neighbor not in g_score or tentative_g_score < g_score[neighbor]:\n",
        "                    came_from[neighbor] = current\n",
        "                    g_score[neighbor] = tentative_g_score\n",
        "                    f_score[neighbor] = tentative_g_score + heuristic(neighbor, goal)\n",
        "                    heapq.heappush(open_list, (f_score[neighbor], neighbor))\n",
        "\n",
        "    return None"
      ]
    },
    {
      "cell_type": "markdown",
      "source": [
        "**Langkah 2 : Tentukan Fungsi Visualisasi**"
      ],
      "metadata": {
        "id": "TECP9I92CtYK"
      }
    },
    {
      "cell_type": "code",
      "source": [
        "def visualize_path(grid, path, start, goal):\n",
        "  grid = np.array(grid)\n",
        "  for (x, y) in path:\n",
        "    grid[x, y] = 2 #mark the path\n",
        "  grid[start[0], start[1]] = 3 #mark the start\n",
        "  grid[goal[0], goal[1]] = 4 #mark the goal\n",
        "\n",
        "  cmap = plt.cm.get_cmap('Accent', 5)\n",
        "\n",
        "  bounds = [0,1,2,3,4]\n",
        "  norm = plt.Normalize(vmin=0, vmax=4)\n",
        "\n",
        "  plt.imshow(grid, cmap=cmap, norm=norm)\n",
        "  plt.colorbar(ticks=[0,1,2,3,4], format=plt.FuncFormatter(lambda val, loc: ['Empty', 'Obstacle', 'Path', 'Start', 'Goal'][int(val)]))\n",
        "\n",
        "  plt.show()"
      ],
      "metadata": {
        "id": "l5S2Qdxa2L39"
      },
      "execution_count": null,
      "outputs": []
    },
    {
      "cell_type": "markdown",
      "source": [
        "**Langkah 3 : Tentukan Grid Awal dan Posisi Awal/Tujuan**"
      ],
      "metadata": {
        "id": "es39uRNLCz-q"
      }
    },
    {
      "cell_type": "code",
      "source": [
        "grid = [\n",
        "    [0, 0, 0, 0, 0, 0, 0, 0, 0, 0],\n",
        "    [0, 1, 1, 1, 1, 0, 1, 1, 1, 0],\n",
        "    [0, 0, 0, 0, 1, 0, 1, 0, 0, 0],\n",
        "    [0, 1, 0, 0, 1, 0, 1, 0, 1, 0],\n",
        "    [0, 1, 0, 0, 0, 0, 1, 0, 1, 0],\n",
        "    [0, 1, 1, 1, 1, 1, 1, 0, 1, 0],\n",
        "    [0, 0, 0, 0, 0, 0, 0, 0, 1, 0],\n",
        "    [0, 1, 0, 1, 1, 1, 1, 1, 1, 0],\n",
        "    [0, 1, 0, 0, 0, 0, 0, 0, 0, 0],\n",
        "    [0, 0, 0, 1, 1, 1, 1, 1, 1, 0]\n",
        "]\n",
        "\n",
        "start = (0, 0)\n",
        "goal = (9, 9)"
      ],
      "metadata": {
        "id": "nbKxrXUTDF46"
      },
      "execution_count": null,
      "outputs": []
    },
    {
      "cell_type": "markdown",
      "source": [
        "**Langkah 4 : Jalankan Algoritma A* dan Visualisasikan Jalurnya**"
      ],
      "metadata": {
        "id": "u0hYoKvADJGW"
      }
    },
    {
      "cell_type": "code",
      "source": [
        "path = a_star(grid, start, goal)\n",
        "\n",
        "if path:\n",
        "    print(\"Jalur ditemukan:\", path)\n",
        "    visualize_path(grid, path, start, goal)\n",
        "else:\n",
        "    print(\"Tidak ada jalur yang ditemukan\")"
      ],
      "metadata": {
        "colab": {
          "base_uri": "https://localhost:8080/",
          "height": 507
        },
        "id": "-YvKoqLGDX83",
        "outputId": "dc1da585-c99d-472d-864e-1a0efc512cb5"
      },
      "execution_count": null,
      "outputs": [
        {
          "output_type": "stream",
          "name": "stdout",
          "text": [
            "Jalur ditemukan: [(0, 0), (0, 1), (0, 2), (0, 3), (0, 4), (0, 5), (0, 6), (0, 7), (0, 8), (0, 9), (1, 9), (2, 9), (3, 9), (4, 9), (5, 9), (6, 9), (7, 9), (8, 9), (9, 9)]\n"
          ]
        },
        {
          "output_type": "stream",
          "name": "stderr",
          "text": [
            "<ipython-input-20-2387a029783f>:8: MatplotlibDeprecationWarning: The get_cmap function was deprecated in Matplotlib 3.7 and will be removed in 3.11. Use ``matplotlib.colormaps[name]`` or ``matplotlib.colormaps.get_cmap()`` or ``pyplot.get_cmap()`` instead.\n",
            "  cmap = plt.cm.get_cmap('Accent', 5)\n"
          ]
        },
        {
          "output_type": "display_data",
          "data": {
            "text/plain": [
              "<Figure size 640x480 with 2 Axes>"
            ],
            "image/png": "[encoded data removed]"
          },
          "metadata": {}
        }
      ]
    },
    {
      "cell_type": "markdown",
      "source": [
        "**TUGAS A**\n",
        "\n",
        "---\n",
        "\n",
        "Dari kasus diatas, terdapat kotak/grid 10x10 dengan mencari jalur terpendek dengan nilai jalur yang ditemukan adalah [(0, 0), (0, 1), (0, 2), (0, 3), (0, 4), (0, 5), (0, 6), (0, 7), (0, 8), (0, 9), (1, 9), (2, 9), (3, 9), (4, 9), (5, 9), (6, 9), (7, 9), (8, 9), (9, 9)].\n",
        "Pada kasus tersebut menggunakan algoritma heuristic Manhattan untuk memperkirakan jarak dari suatu titik ke tujuan dengan menerapkan fungsi a_star(grid, start, goal) untuk mencari jalur optimal dari titik start sampai mencapai goalsnya. Memvisualisasikan jalurnya menggunakan matplotlib.\n",
        "\n",
        "\n"
      ],
      "metadata": {
        "id": "LYiE3jMPELEH"
      }
    },
    {
      "cell_type": "markdown",
      "source": [
        "# **Studi Kasus: Pencarian Jalur Terpendek di Peta Kota Menggunakan A***"
      ],
      "metadata": {
        "id": "0XTCZ5-lDfw0"
      }
    },
    {
      "cell_type": "markdown",
      "source": [
        "**Deskripsi Kasus**\n",
        "Seorang kurir ingin mengantarkan paket dari kantor pusat (Start) ke tujuan (Goal) di sebuah kota yang direpresentasikan sebagai grid.\n",
        "Kota memiliki:\n",
        "\n",
        "1.   Jalan bebas hambatan (bisa dilewati, dilambangkan dengan 0).\n",
        "2.   Bangunan atau area terlarang (tidak bisa dilewati, dilambangkan dengan 1).\n",
        "3.   Tantangan tambahan berupa jalan berbatu yang memperlambat perjalanan (dilambangkan dengan 2).\n",
        "\n",
        "Kurir harus menggunakan algoritma A* untuk menemukan jalur tercepat."
      ],
      "metadata": {
        "id": "Adl-9TxRaCS7"
      }
    },
    {
      "cell_type": "code",
      "source": [
        "import heapq\n",
        "import matplotlib.pyplot as plt\n",
        "import numpy as np\n",
        "\n",
        "def a_star(grid, start, goal):\n",
        "    def heuristic(a, b):\n",
        "        return abs(a[0] - b[0]) + abs(a[1] - b[1])  # Manhattan Distance\n",
        "\n",
        "    directions = [(0, 1), (1, 0), (0, -1), (-1, 0)]  # Right, Down, Left, Up\n",
        "    open_list = []\n",
        "    heapq.heappush(open_list, (0, start))\n",
        "\n",
        "    g_score = {start: 0}\n",
        "    f_score = {start: heuristic(start, goal)}\n",
        "    came_from = {}\n",
        "\n",
        "    while open_list:\n",
        "        _, current = heapq.heappop(open_list)\n",
        "\n",
        "        if current == goal:\n",
        "            path = []\n",
        "            while current in came_from:\n",
        "                path.append(current)\n",
        "                current = came_from[current]\n",
        "            path.append(start)\n",
        "            path.reverse()\n",
        "            return path\n",
        "\n",
        "        for direction in directions:\n",
        "            neighbor = (current[0] + direction[0], current[1] + direction[1])\n",
        "\n",
        "            if 0 <= neighbor[0] < len(grid) and 0 <= neighbor[1] < len(grid[0]):\n",
        "                if grid[neighbor[0]][neighbor[1]] == 1:  # Obstacle\n",
        "                    continue\n",
        "\n",
        "                move_cost = 1 if grid[neighbor[0]][neighbor[1]] == 0 else 2  # Jalan biasa: 1, jalan berbatu: 2\n",
        "                tentative_g_score = g_score[current] + move_cost\n",
        "\n",
        "                if neighbor not in g_score or tentative_g_score < g_score[neighbor]:\n",
        "                    came_from[neighbor] = current\n",
        "                    g_score[neighbor] = tentative_g_score\n",
        "                    f_score[neighbor] = tentative_g_score + heuristic(neighbor, goal)\n",
        "                    heapq.heappush(open_list, (f_score[neighbor], neighbor))\n",
        "\n",
        "    return None\n",
        "\n",
        "def visualize_path(grid, path, start, goal):\n",
        "    grid = np.array(grid)\n",
        "    for (x, y) in path:\n",
        "        grid[x, y] = 3  # Path\n",
        "    grid[start[0], start[1]] = 4  # Start\n",
        "    grid[goal[0], goal[1]] = 5  # Goal\n",
        "\n",
        "    cmap = plt.colormaps['Accent']\n",
        "    bounds = [0, 1, 2, 3, 4, 5]\n",
        "    norm = plt.Normalize(vmin=0, vmax=5)\n",
        "\n",
        "    plt.imshow(grid, cmap=cmap, norm=norm)\n",
        "    plt.colorbar(ticks=[0, 1, 2, 3, 4, 5], format=plt.FuncFormatter(lambda val, loc: ['Jalan', 'Bangunan', 'Jalan Berbatu', 'Jalur', 'Start', 'Goal'][int(val)]))\n",
        "    plt.show()\n",
        "\n",
        "# Grid Kota (0: Jalan, 1: Bangunan, 2: Jalan Berbatu)\n",
        "grid = [\n",
        "    [0, 0, 0, 1, 0, 0, 2, 0, 0, 0],\n",
        "    [0, 1, 0, 1, 0, 1, 2, 1, 1, 0],\n",
        "    [0, 1, 0, 0, 0, 1, 2, 1, 0, 0],\n",
        "    [0, 0, 0, 1, 1, 1, 2, 1, 0, 1],\n",
        "    [1, 1, 0, 0, 0, 0, 0, 0, 0, 0],\n",
        "    [1, 1, 0, 1, 1, 1, 1, 1, 1, 0],\n",
        "    [0, 0, 0, 0, 2, 2, 2, 2, 0, 0],\n",
        "    [0, 1, 1, 0, 2, 1, 1, 1, 0, 1],\n",
        "    [0, 0, 1, 0, 2, 2, 2, 0, 0, 0],\n",
        "    [1, 0, 0, 0, 0, 1, 1, 0, 1, 0]\n",
        "]\n",
        "\n",
        "start = (0, 0)\n",
        "goal = (9, 9)\n",
        "\n",
        "# Jalankan A* dan visualisasi\n",
        "path = a_star(grid, start, goal)\n",
        "\n",
        "if path:\n",
        "    print(\"Jalur ditemukan:\", path)\n",
        "    visualize_path(grid, path, start, goal)\n",
        "else:\n",
        "    print(\"Tidak ada jalur yang ditemukan.\")\n"
      ],
      "metadata": {
        "colab": {
          "base_uri": "https://localhost:8080/",
          "height": 472
        },
        "id": "z7HChobNQskq",
        "outputId": "8cdac7c4-9dc2-4272-be9b-65bf89d8feed"
      },
      "execution_count": null,
      "outputs": [
        {
          "output_type": "stream",
          "name": "stdout",
          "text": [
            "Jalur ditemukan: [(0, 0), (0, 1), (0, 2), (1, 2), (2, 2), (3, 2), (4, 2), (4, 3), (4, 4), (4, 5), (4, 6), (4, 7), (4, 8), (4, 9), (5, 9), (6, 9), (6, 8), (7, 8), (8, 8), (8, 9), (9, 9)]\n"
          ]
        },
        {
          "output_type": "display_data",
          "data": {
            "text/plain": [
              "<Figure size 640x480 with 2 Axes>"
            ],
            "image/png": "[encoded data removed]"
          },
          "metadata": {}
        }
      ]
    }
  ]
}